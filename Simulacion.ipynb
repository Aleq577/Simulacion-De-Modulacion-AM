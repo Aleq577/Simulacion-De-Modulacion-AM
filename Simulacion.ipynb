{
  "cells": [
    {
      "cell_type": "code",
      "execution_count": null,
      "metadata": {
        "id": "oTou1J3WqRsS"
      },
      "outputs": [],
      "source": [
        "\"Poner aqui su codigo\""
      ]
    },
    {
      "cell_type": "code",
      "execution_count": null,
      "metadata": {
        "id": "o-cm4q0c2jxO"
      },
      "outputs": [],
      "source": [
        "python\n",
        "CopiarEditar\n",
        "import numpy as np\n",
        "import matplotlib.pyplot as plt\n",
        "# Parámetros de la portadora\n",
        "frecuencia_portadora = 10 # Frecuencia de la portadora en Hz\n",
        "amplitud_portadora = 60 # Amplitud de la portadora\n",
        "t = np.linspace(2) # Tiempo de simulación\n",
        "portadora = amplitud_portadora * np.cos(2 * np.pi * frecuencia_portadora *\n",
        "t)\n",
        "# Visualizar la señal portadora\n",
        "plt.figure(figsize=(10, 4))\n",
        "plt.plot(t, portadora, label='Señal Portadora')\n",
        "plt.title('Señal Portadora')\n",
        "plt.xlabel('Tiempo [s]')\n",
        "plt.ylabel('Amplitud')\n",
        "plt.legend(loc='upper right')\n",
        "plt.grid(True)\n",
        "plt.show()\n"
      ]
    },
    {
      "cell_type": "markdown",
      "source": [],
      "metadata": {
        "id": "gpqLo4HLN1ya"
      }
    },
    {
      "cell_type": "code",
      "execution_count": null,
      "metadata": {
        "id": "cPU0IPxmHkj1"
      },
      "outputs": [],
      "source": [
        "# Parámetros de la señal de información\n",
        "frecuencia_informacion = 10 # Frecuencia de la señal de información en Hz\n",
        "amplitud_informacion = 60 # Amplitud de la señal de información\n",
        "# Señal de información\n",
        "informacion = amplitud_informacion * np.sin(2 * np.pi *\n",
        "frecuencia_informacion * t)\n",
        "# Visualizar la señal de información\n",
        "plt.figure(figsize=(10, 4))\n",
        "plt.plot(t, informacion, label='Señal de Información', color='r')\n",
        "plt.title('Señal de Información')\n",
        "plt.xlabel('Tiempo [s]')\n",
        "plt.ylabel('Amplitud')\n",
        "plt.legend(loc='upper right')\n",
        "plt.grid(True)\n",
        "plt.show()"
      ]
    },
    {
      "cell_type": "code",
      "source": [
        "python\n",
        "CopiarEditar\n",
        "# Modulación AM: combinación de la portadora y la señal de información\n",
        "modulada = (1 + informacion) * portadora # Fórmula de modulación AM\n",
        "# Visualizar la señal modulada\n",
        "plt.figure(figsize=(10, 4))\n",
        "plt.plot(t, modulada, label='Señal Modulda AM', color='g')\n",
        "plt.title('Señal Modulda AM')\n",
        "plt.xlabel('Tiempo [s]')\n",
        "plt.ylabel('Amplitud')\n",
        "plt.legend(loc='upper right')\n",
        "plt.grid(True)\n",
        "plt.show()"
      ],
      "metadata": {
        "id": "pmC2UIHHHxVM"
      },
      "execution_count": null,
      "outputs": []
    }
  ],
  "metadata": {
    "colab": {
      "provenance": []
    },
    "kernelspec": {
      "display_name": "Python 3",
      "name": "python3"
    },
    "language_info": {
      "name": "python"
    }
  },
  "nbformat": 4,
  "nbformat_minor": 0
}