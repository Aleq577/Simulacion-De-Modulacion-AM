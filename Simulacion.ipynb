{
  "nbformat": 4,
  "nbformat_minor": 0,
  "metadata": {
    "colab": {
      "provenance": []
    },
    "kernelspec": {
      "name": "python3",
      "display_name": "Python 3"
    },
    "language_info": {
      "name": "python"
    }
  },
  "cells": [
    {
      "cell_type": "code",
      "execution_count": null,
      "metadata": {
        "id": "oTou1J3WqRsS"
      },
      "outputs": [],
      "source": [
        "\"Poner aqui su codigo\""
      ]
    },
    {
      "cell_type": "code",
      "source": [
        "python\n",
        "CopiarEditar\n",
        "import numpy as np\n",
        "import matplotlib.pyplot as plt\n",
        "# Parámetros de la portadora\n",
        "frecuencia_portadora = 10 # Frecuencia de la portadora en Hz\n",
        "amplitud_portadora = 60 # Amplitud de la portadora\n",
        "t = np.linspace(2) # Tiempo de simulación\n",
        "portadora = amplitud_portadora * np.cos(2 * np.pi * frecuencia_portadora *\n",
        "t)\n",
        "# Visualizar la señal portadora\n",
        "plt.figure(figsize=(10, 4))\n",
        "plt.plot(t, portadora, label='Señal Portadora')\n",
        "plt.title('Señal Portadora')\n",
        "plt.xlabel('Tiempo [s]')\n",
        "plt.ylabel('Amplitud')\n",
        "plt.legend(loc='upper right')\n",
        "plt.grid(True)\n",
        "plt.show()\n"
      ],
      "metadata": {
        "id": "o-cm4q0c2jxO"
      },
      "execution_count": null,
      "outputs": []
    }
  ]
}